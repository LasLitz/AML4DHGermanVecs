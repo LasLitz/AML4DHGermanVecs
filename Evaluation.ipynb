{
 "cells": [
  {
   "cell_type": "markdown",
   "metadata": {},
   "source": [
    "# Evaluation"
   ]
  },
  {
   "cell_type": "code",
   "execution_count": 1,
   "metadata": {},
   "outputs": [],
   "source": [
    "from benchmarking.benchmarks import *\n",
    "from utils.transform_data import ConfigLoader\n",
    "from vectorization.embeddings import Embeddings, Embedding\n",
    "from benchmarking.evaluation import Evaluation\n",
    "from resource.other_resources import NDFEvaluator, SRSEvaluator\n",
    "import pandas as pd"
   ]
  },
  {
   "cell_type": "code",
   "execution_count": 2,
   "metadata": {},
   "outputs": [
    {
     "name": "stdout",
     "output_type": "stream",
     "text": [
      "importing config from config.json ...\n",
      "initialize UMLSMapper... Load json\n"
     ]
    }
   ],
   "source": [
    "config = ConfigLoader.get_config()\n",
    "umls_mapper = Embeddings.set_config_and_get_umls_mapper(config)"
   ]
  },
  {
   "cell_type": "markdown",
   "metadata": {},
   "source": [
    "## Selecting Embeddings, which shall be benchmarked\n",
    "\n",
    "Trained embeddings can easily added to the list of embeddings by setting up their meta data (file name, Data set name, algorithm, preprocessing and the estimation mode.)"
   ]
  },
  {
   "cell_type": "code",
   "execution_count": 3,
   "metadata": {},
   "outputs": [],
   "source": [
    "# multi-term: sensible for multi token concepts\n",
    "# single-term: unsensible for multi token concepts\n",
    "# JULIE: JULIE repelacement of concepts\n",
    "# SE CUI: Subsequent Estimated CUIs with own method\n",
    "embeddings_to_benchmark = [\n",
    "#     # # # Related Work\n",
    "#     Embedding('stanford_umls_svd_300.txt', \"Choi et al. 2016 [Stanford]\", \"word2vec\", \"UNK\", internal=False),\n",
    "#     Embedding('claims_cuis_hs_300.txt', \"Choi et al. 2016 [Claims]\", \"word2vec\", \"UNK\", internal=False),\n",
    "#     Embedding('DeVine_etal_200.txt', \"De Vine et al. 2014\", \"word2vec\", \"UNK\", internal=False),\n",
    "#     Embedding('cui2vec_pretrained.txt', \"Beam et al. 2020\", \"word2vec\", \"UNK\", internal=False)\n",
    "#     # # # Flair\n",
    "#     Embedding('GGPONC_flair_no_cui_all.kv', \"GGPONC\", \"Flair\", \"SE CUI\", estimate_cui=True),\n",
    "\n",
    "#     Embedding('German_Medical_flair_all.kv', \"GerVec\", \"Flair\", \"multi-term\"),\n",
    "#     Embedding('German_Medical_flair_plain_all.kv', \"GerVec\", \"Flair\", \"single-term\"),\n",
    "#     Embedding('German_Medical_flair_JULIE_all.kv', \"GerVec\", \"Flair\", \"JCoRe\"),\n",
    "#     Embedding('German_Medical_flair_no_cui_all.kv', \"GerVec\", \"Flair\", \"SE CUI\", estimate_cui=True),\n",
    "#     Embedding('German_Medical_flair_no_finetune_no_cui_all.kv', \"GerVec\", \"Flair\", \"SE CUI NF\", estimate_cui=True),\n",
    "#     Embedding('German_Medical_bert_no_finetune_no_cui_all.kv', \"GerVec\", \"BERT\", \"SE CUI NF\", estimate_cui=True),\n",
    "\n",
    "#     Embedding('100K_news_flair_all.kv', \"News 100K\", \"Flair\", \"multi-term\"),\n",
    "#     Embedding('100K_news_flair_plain_all.kv', \"News 100K\", \"Flair\", \"single-term\"),\n",
    "#     Embedding('100K_news_flair_JULIE_all.kv', \"News 100K\", \"Flair\", \"JCoRe\"),\n",
    "#     Embedding('100K_news_flair_no_cui_all.kv', \"News 100K\", \"Flair\", \"SE CUI\", estimate_cui=True),\n",
    "#     Embedding('100K_news_flair_no_fine_tune_no_cui_all.kv', \"News 100K\", \"Flair\", \"SE CUI NF\", estimate_cui=True),\n",
    "#     Embedding('100K_news_bert_no_finetune_no_cui_all.kv', \"News 100K\", \"BERT\", \"SE CUI NF\", estimate_cui=True),\n",
    "#     #\n",
    "#     # # Gervec / news multiterm flair, single term flair\n",
    "#     # # # GGPONC\n",
    "#     Embedding('GGPONC_all.kv', \"GGPONC\", \"word2vec\", \"multi-term\"),\n",
    "#     Embedding('GGPONC_fastText_all.kv', \"GGPONC\", \"fastText\", \"multi-term\"),\n",
    "#     Embedding('GGPONC_glove_all.kv', \"GGPONC\", \"GloVe\", \"multi-term\"),\n",
    "#     Embedding('GGPONC_plain_all.kv', \"GGPONC\", \"word2vec\", \"single-term\"),\n",
    "#     Embedding('GGPONC_fastText_plain_all.kv',\"GGPONC\", \"fastText\", \"single-term\"),\n",
    "#     Embedding('GGPONC_glove_plain_all.kv', \"GGPONC\", \"GloVe\", \"single-term\"),\n",
    "#     Embedding('GGPONC_no_cui_all.kv', \"GGPONC\", \"word2vec\", \"SE CUI\", estimate_cui=True),\n",
    "#     Embedding('GGPONC_fastText_no_cui_all.kv', \"GGPONC\", \"fastText\", \"SE CUI\", estimate_cui=True),\n",
    "#     Embedding('GGPONC_glove_no_cui_all.kv', \"GGPONC\", \"GloVe\", \"SE CUI\", estimate_cui=True),\n",
    "#     Embedding('GGPONC_JULIE_all.kv', \"GGPONC\", \"word2vec\", \"JCoRe\"),\n",
    "#     Embedding('GGPONC_fastText_JULIE_all.kv', \"GGPONC\", \"fastText\", \"JCoRe\"),\n",
    "#     Embedding('GGPONC_glove_JULIE_all.kv', \"GGPONC\", \"GloVe\", \"JCoRe\"),\n",
    "#     # # Pretrained\n",
    "#     # # https://devmount.github.io/GermanWordEmbeddings/\n",
    "#     Embedding('E:/german.model', \"Wikipedia + News 2015\", \"word2vec\", \"SE CUI\",\n",
    "#               internal=False, estimate_cui=True, is_file=False),\n",
    "#     # # News\n",
    "#     Embedding('100K_news_all.kv', \"News 100K\", \"word2vec\", \"multi-term\"),\n",
    "#     Embedding('100K_news_fastText_all.kv', \"News 100K\", \"fastText\", \"multi-term\"),\n",
    "#     Embedding('100K_news_glove_all.kv', \"News 100K\", \"GloVe\", \"multi-term\"),\n",
    "#     Embedding('100K_news_plain_all.kv', \"News 100K\", \"word2vec\", \"single-term\"),\n",
    "#     Embedding('100K_news_fastText_plain_all.kv', \"News 100K\", \"fastText\", \"single-term\"),\n",
    "#     Embedding('100K_news_glove_plain_all.kv', \"News 100K\", \"GloVe\", \"single-term\"),\n",
    "#     Embedding('100K_news_no_cui_all.kv', \"News 100K\", \"word2vec\", \"SE CUI\", estimate_cui=True),\n",
    "#     Embedding('100K_news_fastText_no_cui_all.kv', \"News 100K\", \"fastText\", \"SE CUI\", estimate_cui=True),\n",
    "#     Embedding('100K_news_glove_no_cui_all.kv', \"News 100K\", \"GloVe\", \"SE CUI\", estimate_cui=True),\n",
    "#     Embedding('100K_news_JULIE_all.kv', \"News 100K\", \"word2vec\", \"JCoRe\"),\n",
    "#     Embedding('100K_news_fastText_JULIE_all.kv', \"News 100K\", \"fastText\", \"JCoRe\"),\n",
    "#     Embedding('100K_news_glove_JULIE_all.kv', \"News 100K\", \"GloVe\", \"JCoRe\"),\n",
    "\n",
    "#     Embedding('500K_news_all.kv', \"News 500K\", \"word2vec\", \"multi-term\"),\n",
    "#     Embedding('3M_news_all.kv', \"News 3M\", \"word2vec\", \"multi-term\"),\n",
    "\n",
    "#     # # JSynCC\n",
    "#     Embedding('JSynnCC_all.kv', \"JSynCC\", \"word2vec\", \"multi-term\"),\n",
    "#     Embedding('JSynnCC_fastText_all.kv', \"JSynCC\", \"fastText\", \"multi-term\"),\n",
    "#     Embedding('JSynnCC_glove_all.kv', \"JSynCC\", \"GloVe\", \"multi-term\"),\n",
    "#     Embedding('JSynnCC_plain_all.kv', \"JSynCC\", \"word2vec\", \"single-term\"),\n",
    "#     Embedding('JSynnCC_fastText_plain_all.kv', \"JSynCC\", \"fastText\", \"single-term\"),\n",
    "#     Embedding('JSynnCC_glove_plain_all.kv', \"JSynCC\", \"GloVe\", \"single-term\"),\n",
    "#     Embedding('JSynnCC_no_cui_all.kv', \"JSynCC\", \"word2vec\", \"SE CUI\", estimate_cui=True),\n",
    "#     Embedding('JSynnCC_fastText_no_cui_all.kv', \"JSynCC\", \"fastText\", \"SE CUI\", estimate_cui=True),\n",
    "#     Embedding('JSynnCC_glove_no_cui_all.kv', \"JSynCC\", \"GloVe\", \"SE CUI\", estimate_cui=True),\n",
    "#     Embedding('JSynnCC_JULIE_all.kv', \"JSynCC\", \"word2vec\", \"JCoRe\"),\n",
    "#     Embedding('JSynnCC_fastText_JULIE_all.kv', \"JSynCC\", \"fastText\", \"JCoRe\"),\n",
    "#     Embedding('JSynnCC_glove_JULIE_all.kv', \"JSynCC\", \"GloVe\", \"JCoRe\"),\n",
    "#     # # # PubMed\n",
    "#     Embedding('PubMed_all.kv', \"PubMed\", \"word2vec\", \"multi-term\"),\n",
    "#     Embedding('PubMed_fastText_all.kv', \"PubMed\", \"fastText\", \"multi-term\"),\n",
    "#     Embedding('PubMed_glove_all.kv', \"PubMed\", \"GloVe\", \"multi-term\"),\n",
    "#     Embedding('PubMed_plain_all.kv', \"PubMed\", \"word2vec\", \"single-term\"),\n",
    "#     Embedding('PubMed_fastText_plain_all.kv', \"PubMed\", \"fastText\", \"single-term\"),\n",
    "#     Embedding('PubMed_glove_plain_all.kv', \"PubMed\", \"GloVe\", \"single-term\"),\n",
    "#     Embedding('PubMed_no_cui_all.kv', \"PubMed\", \"word2vec\", \"SE CUI\", estimate_cui=True),\n",
    "#     Embedding('PubMed_fastText_no_cui_all.kv',  \"PubMed\", \"fastText\", \"SE CUI\", estimate_cui=True),\n",
    "#     Embedding('PubMed_glove_no_cui_all.kv', \"PubMed\", \"GloVe\", \"SE CUI\", estimate_cui=True),\n",
    "#     Embedding('PubMed_JULIE_all.kv', \"PubMed\", \"word2vec\", \"JCoRe\"),\n",
    "#     Embedding('PubMed_fastText_JULIE_all.kv', \"PubMed\", \"fastText\", \"JCoRe\"),\n",
    "#     Embedding('PubMed_glove_JULIE_all.kv', \"PubMed\", \"GloVe\", \"JCoRe\"),\n",
    "#     # # # German Medical Concatenation\n",
    "#     Embedding('German_Medical_all.kv', \"GerVec\", \"word2vec\", \"multi-term\"),\n",
    "#     Embedding('German_Medical_fastText_all.kv', \"GerVec\", \"fastText\", \"multi-term\"),\n",
    "#     Embedding('German_Medical_Glove_all.kv', \"GerVec\", \"GloVe\", \"multi-term\"),\n",
    "#     Embedding('German_Medical_plain_all.kv', \"GerVec\", \"word2vec\", \"single-term\"),\n",
    "#     Embedding('German_Medical_fastText_plain_all.kv', \"GerVec\", \"fastText\", \"single-term\"),\n",
    "#     Embedding('German_Medical_Glove_plain_all.kv', \"GerVec\", \"GloVe\", \"single-term\"),\n",
    "    Embedding('German_Medical_no_cui_all.kv', \"GerVec\", \"word2vec\", \"SE CUI\", estimate_cui=True),\n",
    "    Embedding('German_Medical_fastText_no_cui_all.kv', \"GerVec\", \"fastText\", \"SE CUI\", estimate_cui=True),\n",
    "    Embedding('German_Medical_Glove_no_cui_all.kv', \"GerVec\", \"GloVe\", \"SE CUI\", estimate_cui=True),\n",
    "#     Embedding('German_Medical_JULIE_all.kv', \"GerVec\", \"word2vec\", \"JCoRe\"),\n",
    "#     Embedding('German_Medical_fastText_JULIE_all.kv', \"GerVec\", \"fastText\", \"JCoRe\"),\n",
    "#     Embedding('German_Medical_Glove_JULIE_all.kv', \"GerVec\", \"GloVe\", \"JCoRe\"),\n",
    "]\n",
    "\n",
    "# German_Medical_Glove_JULIE_al\n",
    "# new glove julie\n",
    "# GGONC single term, multi term"
   ]
  },
  {
   "cell_type": "markdown",
   "metadata": {},
   "source": [
    "## Adding different resources to the evaluation Pipeline\n",
    "\n",
    "Usually all resources can be added to the pipeline. If you added further knowledge bases or ontologies and created benchmarks from it, you might want to add them to the following list."
   ]
  },
  {
   "cell_type": "code",
   "execution_count": 4,
   "metadata": {},
   "outputs": [
    {
     "name": "stdout",
     "output_type": "stream",
     "text": [
      "initialize UMLSEvaluator... Load cached json of E:/AML4DH-DATA/UMLS\n",
      "initialize NDFEvaluator... Load cached json of E:/AML4DH-DATA/NDF\n",
      "initialize SRSEvaluator... Load cached json of E:/AML4DH-DATA/SRS\n",
      "initialize MRRELEvaluator... Load cached json of E:/AML4DH-DATA/UMLS\n"
     ]
    }
   ],
   "source": [
    "evaluators = [\n",
    "    UMLSEvaluator(from_dir=config[\"PATH\"][\"UMLS\"]),\n",
    "    NDFEvaluator(from_dir=config[\"PATH\"][\"NDF\"]),\n",
    "    SRSEvaluator(from_dir=config[\"PATH\"][\"SRS\"]),\n",
    "    MRRELEvaluator(from_dir=config[\"PATH\"][\"UMLS\"])\n",
    "]"
   ]
  },
  {
   "cell_type": "markdown",
   "metadata": {},
   "source": [
    "## Adding different benchmarks to the evaluation Pipeline\n",
    "\n",
    "This list selects the benchmarks to calculate by their class names. If you created your own benchmarks, you should add them here."
   ]
  },
  {
   "cell_type": "code",
   "execution_count": 5,
   "metadata": {},
   "outputs": [],
   "source": [
    "benchmarks_to_use = [\n",
    "    HumanAssessmentRelatednessCont,\n",
    "    HumanAssessmentSimilarityCont,\n",
    "    HumanAssessmentMayoSRS,\n",
    "#     CausalityBeam,\n",
    "#     NDFRTBeam,\n",
    "#     SemanticTypeBeam,\n",
    "#     AssociationBeam,\n",
    "#     ConceptualSimilarityChoi,\n",
    "]"
   ]
  },
  {
   "cell_type": "markdown",
   "metadata": {},
   "source": [
    "## Running the Evaluation Pipeline\n",
    "\n",
    "This runs the actual evaluation pipeline on the basis of the 4 lists from before.\n",
    "It will show results at this place and also writes each calculated result into the benchmark cache, which is the basis for further analyses and plotting.\n"
   ]
  },
  {
   "cell_type": "code",
   "execution_count": 6,
   "metadata": {},
   "outputs": [
    {
     "name": "stdout",
     "output_type": "stream",
     "text": [
      "load embedding of file data\\German_Medical_no_cui_all.kv...\n"
     ]
    },
    {
     "name": "stderr",
     "output_type": "stream",
     "text": [
      "HumanAssessmentRelatednessCont Beam (GerVec|word2vec|SE CUI): 100%|████████████████████████████████████████████████████████████████████████████████████████████████████████████████████████████████████████████████████████████████████| 280/280 [00:00<00:00, 3858.76it/s]\n",
      "HumanAssessmentSimilarityCont Beam (GerVec|word2vec|SE CUI): 100%|█████████████████████████████████████████████████████████████████████████████████████████████████████████████████████████████████████████████████████████████████████| 263/263 [00:00<00:00, 3753.92it/s]\n",
      "HumanAssessmentMayoSRS Beam (GerVec|word2vec|SE CUI): 100%|██████████████████████████████████████████████████████████████████████████████████████████████████████████████████████████████████████████████████████████████████████████████| 95/95 [00:00<00:00, 4218.55it/s]\n"
     ]
    },
    {
     "name": "stdout",
     "output_type": "stream",
     "text": [
      "load embedding of file data\\German_Medical_fastText_no_cui_all.kv...\n"
     ]
    },
    {
     "name": "stderr",
     "output_type": "stream",
     "text": [
      "HumanAssessmentRelatednessCont Beam (GerVec|fastText|SE CUI): 100%|█████████████████████████████████████████████████████████████████████████████████████████████████████████████████████████████████████████████████████████████████████| 280/280 [00:00<00:00, 983.34it/s]\n",
      "HumanAssessmentSimilarityCont Beam (GerVec|fastText|SE CUI): 100%|██████████████████████████████████████████████████████████████████████████████████████████████████████████████████████████████████████████████████████████████████████| 263/263 [00:00<00:00, 846.29it/s]\n",
      "HumanAssessmentMayoSRS Beam (GerVec|fastText|SE CUI): 100%|██████████████████████████████████████████████████████████████████████████████████████████████████████████████████████████████████████████████████████████████████████████████| 95/95 [00:00<00:00, 1977.43it/s]\n"
     ]
    },
    {
     "name": "stdout",
     "output_type": "stream",
     "text": [
      "load embedding of file data\\German_Medical_Glove_no_cui_all.kv...\n"
     ]
    },
    {
     "name": "stderr",
     "output_type": "stream",
     "text": [
      "HumanAssessmentRelatednessCont Beam (GerVec|GloVe|SE CUI): 100%|███████████████████████████████████████████████████████████████████████████████████████████████████████████████████████████████████████████████████████████████████████| 280/280 [00:00<00:00, 3940.28it/s]\n",
      "HumanAssessmentSimilarityCont Beam (GerVec|GloVe|SE CUI): 100%|████████████████████████████████████████████████████████████████████████████████████████████████████████████████████████████████████████████████████████████████████████| 263/263 [00:00<00:00, 3412.66it/s]\n",
      "HumanAssessmentMayoSRS Beam (GerVec|GloVe|SE CUI): 100%|█████████████████████████████████████████████████████████████████████████████████████████████████████████████████████████████████████████████████████████████████████████████████| 95/95 [00:00<00:00, 4414.76it/s]\n"
     ]
    },
    {
     "name": "stdout",
     "output_type": "stream",
     "text": [
      "  Data set Preprocessing Algorithm  # Concepts  # Words  CUI Coverage  \\\n",
      "0   GerVec        SE CUI  word2vec       16440   121008      0.135859   \n",
      "1   GerVec        SE CUI  fastText       16440   121008      0.135859   \n",
      "2   GerVec        SE CUI     GloVe       16440   121007      0.135860   \n",
      "\n",
      "   UMLS Coverage                HumanAssessmentRelatednessCont  \\\n",
      "0       0.152375     (0.12145748282281896, 0.2603448275862069)   \n",
      "1       0.152375                  (0.0065873021144743785, 1.0)   \n",
      "2       0.152375  (-0.19215349868021409, 0.056896551724137934)   \n",
      "\n",
      "                 HumanAssessmentSimilarityCont  \\\n",
      "0    (0.20762554625912535, 0.2737030411449016)   \n",
      "1                  (0.013806827048226224, 1.0)   \n",
      "2  (-0.13794394846641736, 0.06082289803220036)   \n",
      "\n",
      "                        HumanAssessmentMayoSRS  \n",
      "0   (-0.0428906222700623, 0.46534653465346537)  \n",
      "1                  (-0.13021783951578147, 1.0)  \n",
      "2  (-0.17236764193043463, 0.15841584158415842)  \n"
     ]
    },
    {
     "data": {
      "text/plain": [
       "<benchmarking.evaluation.Evaluation at 0x20c66e79f88>"
      ]
     },
     "execution_count": 6,
     "metadata": {},
     "output_type": "execute_result"
    }
   ],
   "source": [
    "Evaluation(embeddings_to_benchmark,\n",
    "           umls_mapper,\n",
    "           evaluators,\n",
    "           benchmarks_to_use)"
   ]
  },
  {
   "cell_type": "code",
   "execution_count": null,
   "metadata": {},
   "outputs": [],
   "source": []
  }
 ],
 "metadata": {
  "kernelspec": {
   "display_name": "AML4DHGermanVecs",
   "language": "python",
   "name": "aml4dhgermanvecs"
  },
  "language_info": {
   "codemirror_mode": {
    "name": "ipython",
    "version": 3
   },
   "file_extension": ".py",
   "mimetype": "text/x-python",
   "name": "python",
   "nbconvert_exporter": "python",
   "pygments_lexer": "ipython3",
   "version": "3.7.7"
  }
 },
 "nbformat": 4,
 "nbformat_minor": 4
}
