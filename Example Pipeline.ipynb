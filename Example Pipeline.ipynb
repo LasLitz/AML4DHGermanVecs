{
 "cells": [
  {
   "cell_type": "code",
   "execution_count": 2,
   "metadata": {},
   "outputs": [],
   "source": [
    "import math\n",
    "\n",
    "import gensim\n",
    "from tqdm import tqdm\n",
    "\n",
    "from UMLS import UMLSMapper, UMLSEvaluator\n",
    "from embeddings import Embeddings\n",
    "from evaluate_embeddings import Benchmark\n",
    "\n",
    "from vectorize_data import lines_from_file, preprocess"
   ]
  },
  {
   "cell_type": "markdown",
   "metadata": {},
   "source": [
    "# General"
   ]
  },
  {
   "cell_type": "code",
   "execution_count": 3,
   "metadata": {},
   "outputs": [
    {
     "name": "stdout",
     "output_type": "stream",
     "text": [
      "initialize UMLSMapper...\n"
     ]
    }
   ],
   "source": [
    "embedding_name = \"no_prep_vecs_test\"\n",
    "umls_mapper = UMLSMapper(from_dir='E:/AML4DH-DATA/UMLS')"
   ]
  },
  {
   "cell_type": "markdown",
   "metadata": {},
   "source": [
    "# Vectorization"
   ]
  },
  {
   "cell_type": "code",
   "execution_count": 3,
   "metadata": {},
   "outputs": [
    {
     "name": "stdout",
     "output_type": "stream",
     "text": [
      "['Helicobacter pylori ist der wesentliche Risikofaktor für das Magenkarzinom.', 'Die H. pylori-Eradikation mit dem Ziel der Magenkarzinomprävention sollte bei den folgenden Risikopersonen durchgeführt werden (siehe Tabelle unten).']\n"
     ]
    }
   ],
   "source": [
    "cpq_sentences = lines_from_file(path=\"E:/AML4DH-DATA/CPG-AMIA2020/Plain Text/cpg-sentences.txt\")\n",
    "print(cpq_sentences[:2])"
   ]
  },
  {
   "cell_type": "code",
   "execution_count": 4,
   "metadata": {},
   "outputs": [
    {
     "name": "stdout",
     "output_type": "stream",
     "text": [
      "[['Helicobacter', 'pylori', 'ist', 'der', 'wesentliche', 'Risikofaktor', 'für', 'das', 'Magenkarzinom.'], ['Die', 'H.', 'pylori-Eradikation', 'mit', 'dem', 'Ziel', 'der', 'Magenkarzinomprävention', 'sollte', 'bei', 'den', 'folgenden', 'Risikopersonen', 'durchgeführt', 'werden', '(siehe', 'Tabelle', 'unten).']]\n"
     ]
    }
   ],
   "source": [
    "# tokenization\n",
    "cpq_sentences = [sentence.split() for sentence in cpq_sentences]\n",
    "print(cpq_sentences[:2])"
   ]
  },
  {
   "cell_type": "code",
   "execution_count": 5,
   "metadata": {},
   "outputs": [
    {
     "name": "stdout",
     "output_type": "stream",
     "text": [
      "[['C0085508', 'pylori', 'ist', 'der', 'wesentliche', 'Risikofaktor', 'für', 'das', 'Magenkarzinom.'], ['Die', 'H.', 'pylori-Eradikation', 'mit', 'dem', 'Ziel', 'der', 'Magenkarzinomprävention', 'sollte', 'bei', 'den', 'folgenden', 'Risikopersonen', 'durchgeführt', 'werden', '(siehe', 'Tabelle', 'unten).']]\n"
     ]
    }
   ],
   "source": [
    "# cpq_sentences = umls_mapper.standardize_documents(cpq_sentences)\n",
    "cpq_sentences = umls_mapper.replace_documents_with_umls(cpq_sentences)\n",
    "# cpq_sentences = preprocess(documents=cpq_sentences, lemmatize=True, remove_stopwords=True)\n",
    "print(cpq_sentences[:2])"
   ]
  },
  {
   "cell_type": "code",
   "execution_count": 6,
   "metadata": {},
   "outputs": [
    {
     "name": "stderr",
     "output_type": "stream",
     "text": [
      " ... (more hidden) ...\n"
     ]
    }
   ],
   "source": [
    "vecs = Embeddings.calculate_vectors(cpq_sentences, use_phrases=False)\n",
    "Embeddings.save_medical(vecs, embedding_name, umls_mapper)"
   ]
  },
  {
   "cell_type": "markdown",
   "metadata": {},
   "source": [
    "# Benchmarks"
   ]
  },
  {
   "cell_type": "code",
   "execution_count": 4,
   "metadata": {},
   "outputs": [
    {
     "name": "stdout",
     "output_type": "stream",
     "text": [
      "load embedding...\n"
     ]
    }
   ],
   "source": [
    "vecs = Embeddings.load(path=f\"data/{embedding_name}.kv\")"
   ]
  },
  {
   "cell_type": "code",
   "execution_count": 5,
   "metadata": {},
   "outputs": [
    {
     "name": "stdout",
     "output_type": "stream",
     "text": [
      "Carboplatin 0.8703843355178833\n",
      "Paclitaxel 0.8661205768585205\n",
      "Etoposid 0.8592477440834045\n",
      "Docetaxel 0.8568588495254517\n",
      "Capecitabin 0.8505868911743164\n",
      "Oxaliplatin 0.8471230268478394\n",
      "Rituximab 0.8007310628890991\n",
      "Cyclophosphamid 0.7927492260932922\n",
      "Bendamustin 0.7917323708534241\n",
      "Bleomycin 0.7808853387832642\n"
     ]
    }
   ],
   "source": [
    "for c, v in vecs.most_similar(umls_mapper.umls_dict[\"Cisplatin\"]):\n",
    "    print(umls_mapper.un_umls(c), v)\n",
    "concept_vecs = umls_mapper.get_umls_vectors_only(vecs)"
   ]
  },
  {
   "cell_type": "code",
   "execution_count": 6,
   "metadata": {},
   "outputs": [
    {
     "name": "stdout",
     "output_type": "stream",
     "text": [
      "initialize UMLSEvaluator...\n"
     ]
    }
   ],
   "source": [
    "evaluator = UMLSEvaluator(from_dir='E:/AML4DH-DATA/UMLS', vectors=vecs)"
   ]
  },
  {
   "cell_type": "code",
   "execution_count": 7,
   "metadata": {},
   "outputs": [
    {
     "name": "stdout",
     "output_type": "stream",
     "text": [
      "Pharmacologic Substance: 4.020107598754371\n",
      "Disease or Syndrome: 1.9983221957602162\n",
      "Neoplastic Process: 2.453319315938585\n",
      "Clinical Drug: 0\n",
      "Finding: 0.6869696229689413\n",
      "Injury or Poisoning: 0.11424715174873927\n"
     ]
    }
   ],
   "source": [
    "benchmark = Benchmark(vecs, umls_mapper, evaluator)\n",
    "benchmark.choi_benchmark()"
   ]
  },
  {
   "cell_type": "code",
   "execution_count": null,
   "metadata": {},
   "outputs": [
    {
     "name": "stderr",
     "output_type": "stream",
     "text": [
      "  1%|▊                                                                                             | 1/113 [00:22<42:00, 22.50s/it]"
     ]
    },
    {
     "name": "stdout",
     "output_type": "stream",
     "text": [
      "Organic Chemical: within 0.3915169490481498, out 0.305338682827962, distance 0.08617826622018782\n"
     ]
    },
    {
     "name": "stderr",
     "output_type": "stream",
     "text": [
      "\r",
      "  2%|█▋                                                                                            | 2/113 [00:49<44:13, 23.90s/it]"
     ]
    },
    {
     "name": "stdout",
     "output_type": "stream",
     "text": [
      "Pharmacologic Substance: within 0.3789551859901992, out 0.29874639015246496, distance 0.08020879583773421\n"
     ]
    },
    {
     "name": "stderr",
     "output_type": "stream",
     "text": [
      "\r",
      "  3%|██▍                                                                                           | 3/113 [00:51<31:50, 17.37s/it]"
     ]
    },
    {
     "name": "stdout",
     "output_type": "stream",
     "text": [
      "Hazardous or Poisonous Substance: within 0.390809279159996, out 0.3314034615557065, distance 0.059405817604289535\n"
     ]
    },
    {
     "name": "stderr",
     "output_type": "stream",
     "text": [
      "\r",
      "  4%|███▎                                                                                          | 4/113 [00:53<22:59, 12.66s/it]"
     ]
    },
    {
     "name": "stdout",
     "output_type": "stream",
     "text": [
      "Nucleic Acid, Nucleoside, or Nucleotide: within 0.44585926748311566, out 0.3401739987439942, distance 0.10568526873912149\n"
     ]
    },
    {
     "name": "stderr",
     "output_type": "stream",
     "text": [
      "\r",
      "  4%|████▏                                                                                         | 5/113 [00:55<17:06,  9.51s/it]"
     ]
    },
    {
     "name": "stdout",
     "output_type": "stream",
     "text": [
      "Body Location or Region: within 0.3416425808878808, out 0.27627016634603657, distance 0.06537241454184423\n"
     ]
    },
    {
     "name": "stderr",
     "output_type": "stream",
     "text": [
      "\r",
      "  5%|████▉                                                                                         | 6/113 [00:56<12:15,  6.87s/it]"
     ]
    },
    {
     "name": "stdout",
     "output_type": "stream",
     "text": [
      "Congenital Abnormality: within 0.35169234362741314, out 0.31561236441217433, distance 0.03607997921523881\n"
     ]
    },
    {
     "name": "stderr",
     "output_type": "stream",
     "text": [
      "\r",
      "  6%|█████▊                                                                                        | 7/113 [00:56<08:43,  4.94s/it]"
     ]
    },
    {
     "name": "stdout",
     "output_type": "stream",
     "text": [
      "Embryonic Structure: within 0.09719399275879065, out 0.17036290808770294, distance -0.07316891532891229\n"
     ]
    },
    {
     "name": "stderr",
     "output_type": "stream",
     "text": [
      "\r",
      "  7%|██████▋                                                                                       | 8/113 [01:22<19:31, 11.16s/it]"
     ]
    },
    {
     "name": "stdout",
     "output_type": "stream",
     "text": [
      "Disease or Syndrome: within 0.3477938972100944, out 0.3084560679601076, distance 0.0393378292499868\n"
     ]
    },
    {
     "name": "stderr",
     "output_type": "stream",
     "text": [
      "\r",
      "  8%|███████▍                                                                                      | 9/113 [01:29<17:12,  9.93s/it]"
     ]
    },
    {
     "name": "stdout",
     "output_type": "stream",
     "text": [
      "Pathologic Function: within 0.3330391943957378, out 0.2961669953195642, distance 0.03687219907617362\n"
     ]
    },
    {
     "name": "stderr",
     "output_type": "stream",
     "text": [
      "\r",
      "  9%|████████▏                                                                                    | 10/113 [01:30<12:15,  7.14s/it]"
     ]
    },
    {
     "name": "stdout",
     "output_type": "stream",
     "text": [
      "Phenomenon or Process: within 0.2660910255379147, out 0.272190202521457, distance -0.006099176983542287\n"
     ]
    },
    {
     "name": "stderr",
     "output_type": "stream",
     "text": [
      "\r",
      " 10%|█████████                                                                                    | 11/113 [01:41<14:24,  8.47s/it]"
     ]
    },
    {
     "name": "stdout",
     "output_type": "stream",
     "text": [
      "Body Part, Organ, or Organ Component: within 0.365569148944823, out 0.2956578052258535, distance 0.06991134371896951\n"
     ]
    },
    {
     "name": "stderr",
     "output_type": "stream",
     "text": [
      "\r",
      " 11%|█████████▉                                                                                   | 12/113 [01:42<10:27,  6.21s/it]"
     ]
    },
    {
     "name": "stdout",
     "output_type": "stream",
     "text": [
      "Indicator, Reagent, or Diagnostic Aid: within 0.35262886360765267, out 0.3102688798836499, distance 0.04235998372400279\n"
     ]
    },
    {
     "name": "stderr",
     "output_type": "stream",
     "text": [
      "\r",
      " 12%|██████████▋                                                                                  | 13/113 [01:48<09:55,  5.95s/it]"
     ]
    },
    {
     "name": "stdout",
     "output_type": "stream",
     "text": [
      "Biologically Active Substance: within 0.4229842477407426, out 0.34728987612326495, distance 0.07569437161747766\n"
     ]
    }
   ],
   "source": [
    "benchmark.all_categories_benchmark()"
   ]
  },
  {
   "cell_type": "markdown",
   "metadata": {},
   "source": [
    "# Visualization"
   ]
  },
  {
   "cell_type": "code",
   "execution_count": 21,
   "metadata": {},
   "outputs": [],
   "source": [
    "from whatlies.embedding import Embedding\n",
    "from whatlies.embeddingset import EmbeddingSet"
   ]
  },
  {
   "cell_type": "code",
   "execution_count": 24,
   "metadata": {},
   "outputs": [],
   "source": [
    "emb = EmbeddingSet({umls_mapper.un_umls(c, single_return=True): Embedding(umls_mapper.un_umls(c, single_return=True), vecs[c]) for c in vecs.vocab})\n",
    "# emb = EmbeddingSet({c: Embedding(c, vecs[c]) for c in vecs.vocab})\n",
    "emb.plot_interactive(\"Cisplatin\",\"Carboplatin\")"
   ]
  },
  {
   "cell_type": "code",
   "execution_count": null,
   "metadata": {},
   "outputs": [],
   "source": []
  }
 ],
 "metadata": {
  "kernelspec": {
   "display_name": "Python 3",
   "language": "python",
   "name": "python3"
  },
  "language_info": {
   "codemirror_mode": {
    "name": "ipython",
    "version": 3
   },
   "file_extension": ".py",
   "mimetype": "text/x-python",
   "name": "python",
   "nbconvert_exporter": "python",
   "pygments_lexer": "ipython3",
   "version": "3.7.7"
  }
 },
 "nbformat": 4,
 "nbformat_minor": 4
}
