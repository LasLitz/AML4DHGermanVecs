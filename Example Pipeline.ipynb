{
 "cells": [
  {
   "cell_type": "code",
   "execution_count": 7,
   "metadata": {},
   "outputs": [],
   "source": [
    "import math\n",
    "\n",
    "import gensim\n",
    "from tqdm import tqdm\n",
    "\n",
    "from UMLS import UMLSMapper, UMLSEvaluator\n",
    "from evaluation_resource import NDFEvaluator, SRSEvaluator\n",
    "from embeddings import Embeddings\n",
    "from evaluate_embeddings import Evaluation\n",
    "\n",
    "from vectorize_data import lines_from_file, preprocess"
   ]
  },
  {
   "cell_type": "markdown",
   "metadata": {},
   "source": [
    "# General"
   ]
  },
  {
   "cell_type": "code",
   "execution_count": 2,
   "metadata": {},
   "outputs": [
    {
     "name": "stdout",
     "output_type": "stream",
     "text": [
      "initialize UMLSMapper... Load json\n"
     ]
    }
   ],
   "source": [
    "embedding_name = \"no_prep_vecs_test_all\"\n",
    "umls_mapper = UMLSMapper(json_path=\"E:/AML4DH-DATA/UMLS/mapper.json\")"
   ]
  },
  {
   "cell_type": "markdown",
   "metadata": {},
   "source": [
    "# Vectorization"
   ]
  },
  {
   "cell_type": "code",
   "execution_count": 3,
   "metadata": {},
   "outputs": [
    {
     "name": "stdout",
     "output_type": "stream",
     "text": [
      "['Helicobacter pylori ist der wesentliche Risikofaktor für das Magenkarzinom.', 'Die H. pylori-Eradikation mit dem Ziel der Magenkarzinomprävention sollte bei den folgenden Risikopersonen durchgeführt werden (siehe Tabelle unten).']\n"
     ]
    }
   ],
   "source": [
    "cpq_sentences = lines_from_file(path=\"E:/AML4DH-DATA/CPG-AMIA2020/Plain Text/cpg-sentences.txt\")\n",
    "print(cpq_sentences[:2])"
   ]
  },
  {
   "cell_type": "code",
   "execution_count": 4,
   "metadata": {},
   "outputs": [
    {
     "name": "stdout",
     "output_type": "stream",
     "text": [
      "[['Helicobacter', 'pylori', 'ist', 'der', 'wesentliche', 'Risikofaktor', 'für', 'das', 'Magenkarzinom.'], ['Die', 'H.', 'pylori-Eradikation', 'mit', 'dem', 'Ziel', 'der', 'Magenkarzinomprävention', 'sollte', 'bei', 'den', 'folgenden', 'Risikopersonen', 'durchgeführt', 'werden', '(siehe', 'Tabelle', 'unten).']]\n"
     ]
    }
   ],
   "source": [
    "# tokenization\n",
    "cpq_sentences = [sentence.split() for sentence in cpq_sentences]\n",
    "print(cpq_sentences[:2])"
   ]
  },
  {
   "cell_type": "code",
   "execution_count": 5,
   "metadata": {},
   "outputs": [
    {
     "name": "stdout",
     "output_type": "stream",
     "text": [
      "[['C0085508', 'pylori', 'ist', 'der', 'wesentliche', 'Risikofaktor', 'für', 'das', 'Magenkarzinom.'], ['Die', 'H.', 'pylori-Eradikation', 'mit', 'dem', 'Ziel', 'der', 'Magenkarzinomprävention', 'sollte', 'bei', 'den', 'folgenden', 'Risikopersonen', 'durchgeführt', 'werden', '(siehe', 'Tabelle', 'unten).']]\n"
     ]
    }
   ],
   "source": [
    "# cpq_sentences = umls_mapper.standardize_documents(cpq_sentences)\n",
    "cpq_sentences = umls_mapper.replace_documents_with_umls(cpq_sentences)\n",
    "# cpq_sentences = preprocess(documents=cpq_sentences, lemmatize=True, remove_stopwords=True)\n",
    "print(cpq_sentences[:2])"
   ]
  },
  {
   "cell_type": "code",
   "execution_count": 6,
   "metadata": {},
   "outputs": [
    {
     "name": "stderr",
     "output_type": "stream",
     "text": [
      " ... (more hidden) ...\n"
     ]
    }
   ],
   "source": [
    "vecs = Embeddings.calculate_vectors(cpq_sentences, use_phrases=False)\n",
    "Embeddings.save_medical(vecs, embedding_name, umls_mapper)"
   ]
  },
  {
   "cell_type": "markdown",
   "metadata": {},
   "source": [
    "# Benchmarks"
   ]
  },
  {
   "cell_type": "code",
   "execution_count": 5,
   "metadata": {},
   "outputs": [
    {
     "name": "stdout",
     "output_type": "stream",
     "text": [
      "load embedding...\n",
      "initialize UMLSEvaluator... Load json\n",
      "initialize NDFEvaluator... Load json\n",
      "initialize SRSEvaluator... Load json\n"
     ]
    }
   ],
   "source": [
    "vecs = Embeddings.load(path=f\"data/{embedding_name}.kv\")\n",
    "umls_evaluator = UMLSEvaluator(json_path=\"E:/AML4DH-DATA/UMLS/umls_eval.json\")\n",
    "ndf_evaluator = NDFEvaluator(json_path=\"E:/AML4DH-DATA/NDF/ndf_eval.json\")\n",
    "srs_evaluator = SRSEvaluator(json_path=\"E:/AML4DH-DATA/SRS/eval.json\")"
   ]
  },
  {
   "cell_type": "code",
   "execution_count": 6,
   "metadata": {},
   "outputs": [
    {
     "name": "stdout",
     "output_type": "stream",
     "text": [
      "Carboplatin 0.8703843355178833\n",
      "Paclitaxel 0.8661205768585205\n",
      "Etoposid 0.8592477440834045\n",
      "Docetaxel 0.8568588495254517\n",
      "Capecitabin 0.8505868911743164\n",
      "Oxaliplatin 0.8471230268478394\n",
      "Gemcitabin 0.8366334438323975\n",
      "Rituximab 0.8007310628890991\n",
      "Cyclophosphamid 0.7927492260932922\n",
      "Bendamustin 0.7917323708534241\n"
     ]
    }
   ],
   "source": [
    "for c, v in vecs.most_similar(umls_mapper.umls_dict[\"Cisplatin\"]):\n",
    "    print(umls_mapper.un_umls(c), v)\n",
    "concept_vecs = umls_mapper.get_umls_vectors_only(vecs)"
   ]
  },
  {
   "cell_type": "code",
   "execution_count": 8,
   "metadata": {},
   "outputs": [
    {
     "name": "stdout",
     "output_type": "stream",
     "text": [
      "HumanAssessmentBenchmark\n",
      "found 148 assessments in embeddings\n",
      "HumanAssessment.SIMILARITY_CONT: 0.2506780830969652\n",
      "found 46 assessments in embeddings\n",
      "HumanAssessment.RELATEDNESS: 0.27215471067555175\n",
      "found 142 assessments in embeddings\n",
      "HumanAssessment.RELATEDNESS_CONT: 0.29959897313819794\n"
     ]
    }
   ],
   "source": [
    "evaluation = Evaluation(vecs, umls_mapper, umls_evaluator, ndf_evaluator, srs_evaluator)\n",
    "evaluation.evaluate()"
   ]
  },
  {
   "cell_type": "code",
   "execution_count": null,
   "metadata": {},
   "outputs": [],
   "source": []
  },
  {
   "cell_type": "code",
   "execution_count": null,
   "metadata": {},
   "outputs": [],
   "source": []
  },
  {
   "cell_type": "code",
   "execution_count": null,
   "metadata": {},
   "outputs": [],
   "source": []
  },
  {
   "cell_type": "markdown",
   "metadata": {},
   "source": [
    "# Experimental"
   ]
  },
  {
   "cell_type": "code",
   "execution_count": null,
   "metadata": {},
   "outputs": [],
   "source": [
    "import math\n",
    "from typing import Tuple\n",
    "\n",
    "import gensim\n",
    "from tqdm import tqdm\n",
    "\n",
    "from UMLS import UMLSMapper, UMLSEvaluator\n",
    "from embeddings import Embeddings\n",
    "class Benchmark:\n",
    "    def __init__(self, embeddings: gensim.models.KeyedVectors, umls_mapper: UMLSMapper, umls_evaluator: UMLSEvaluator):\n",
    "        self.embeddings = embeddings\n",
    "        self.umls_mapper = umls_mapper\n",
    "        self.umls_evaluator = umls_evaluator\n",
    "\n",
    "    def cosine(self, word1=None, word2=None, c1=None, c2=None):\n",
    "        if word1:\n",
    "            return self.embeddings.similarity(self.umls_mapper.umls_dict[word1], self.umls_mapper.umls_dict[word2])\n",
    "        else:\n",
    "            return self.embeddings.similarity(c1, c2)\n",
    "\n",
    "    def pairwise_cosine(self, concepts1, concepts2=None):\n",
    "        if concepts2 is None:\n",
    "            concepts2 = concepts1\n",
    "            s = 0\n",
    "            count = -1\n",
    "            for i, concept1 in enumerate(concepts1):\n",
    "                for j, concept2 in enumerate(concepts2):\n",
    "                    if j > i:\n",
    "                        c = self.cosine(c1=concept1, c2=concept2)\n",
    "                        if c < 0:\n",
    "                            c = -c\n",
    "                        s += c\n",
    "                        count += 1\n",
    "\n",
    "            return s / count\n",
    "        else:\n",
    "            s = 0\n",
    "            count = 0\n",
    "            for i, concept1 in enumerate(concepts1):\n",
    "                for j, concept2 in enumerate(concepts2):\n",
    "                    c = self.cosine(c1=concept1, c2=concept2)\n",
    "                    if c < 0:\n",
    "                        c = -c\n",
    "                    s += c\n",
    "                    count += 1\n",
    "            return s / count\n",
    "\n",
    "    def silhouette(self, term, category):\n",
    "        def mean_between_distance(datapoint, same_cluster):\n",
    "            sigma_ai = 0\n",
    "            for reference_point in same_cluster:\n",
    "                if datapoint == reference_point:\n",
    "                    continue\n",
    "                sigma_ai += self.cosine(c1=datapoint, c2=reference_point)\n",
    "\n",
    "            return sigma_ai / (len(same_cluster)-1)\n",
    "\n",
    "        def smallest_mean_out_distance(datapoint, other_clusters):\n",
    "            distances = []\n",
    "            for other_cluster in other_clusters:\n",
    "                sigma_bi = 0\n",
    "                for other_reference_point in other_cluster:\n",
    "                    sigma_bi += self.cosine(c1=datapoint, c2=other_reference_point)\n",
    "                sigma_bi = sigma_bi / len(other_cluster)\n",
    "                distances.append(sigma_bi)\n",
    "            return min(distances)\n",
    "\n",
    "        cluster_name = category\n",
    "        cluster = self.umls_evaluator.category2concepts[cluster_name]\n",
    "        other_cluster_names = set(self.umls_evaluator.category2concepts.keys()).difference(cluster_name)\n",
    "        other_clusters = [self.umls_evaluator.category2concepts[category] for category in other_cluster_names]\n",
    "\n",
    "        a_i = mean_between_distance(term, cluster)\n",
    "        b_i = smallest_mean_out_distance(term, other_clusters)\n",
    "        print(a_i, b"
   ]
  },
  {
   "cell_type": "code",
   "execution_count": 11,
   "metadata": {},
   "outputs": [],
   "source": [
    "import math\n",
    "from typing import Tuple\n",
    "\n",
    "import gensim\n",
    "from tqdm import tqdm\n",
    "\n",
    "from UMLS import UMLSMapper, UMLSEvaluator\n",
    "from embeddings import Embeddings\n",
    "class Benchmark:\n",
    "    def __init__(self, embeddings: gensim.models.KeyedVectors, umls_mapper: UMLSMapper, umls_evaluator: UMLSEvaluator):\n",
    "        self.embeddings = embeddings\n",
    "        self.umls_mapper = umls_mapper\n",
    "        self.umls_evaluator = umls_evaluator\n",
    "\n",
    "    def cosine(self, word1=None, word2=None, c1=None, c2=None):\n",
    "    \n",
    "        if word1:\n",
    "            cos = self.embeddings.similarity(self.umls_mapper.umls_dict[word1], self.umls_mapper.umls_dict[word2])\n",
    "        else:\n",
    "            cos = self.embeddings.similarity(c1, c2)\n",
    "        if cos < 0:\n",
    "            return -cos\n",
    "        else:\n",
    "            return cos\n",
    "\n",
    "    def pairwise_cosine(self, concepts1, concepts2=None):\n",
    "        if concepts2 is None:\n",
    "            concepts2 = concepts1\n",
    "            s = 0\n",
    "            count = 0\n",
    "            for i, concept1 in enumerate(concepts1):\n",
    "                for j, concept2 in enumerate(concepts2):\n",
    "                    if j > i:\n",
    "                        c = self.cosine(c1=concept1, c2=concept2)\n",
    "                        if c < 0:\n",
    "                            c = -c\n",
    "                        s += c\n",
    "                        count += 1\n",
    "\n",
    "            return s / count\n",
    "        else:\n",
    "            s = 0\n",
    "            count = 0\n",
    "            for i, concept1 in enumerate(concepts1):\n",
    "                for j, concept2 in enumerate(concepts2):\n",
    "                    c = self.cosine(c1=concept1, c2=concept2)\n",
    "                    if c < 0:\n",
    "                        c = -c\n",
    "                    s += c\n",
    "                    count += 1\n",
    "            return s / count\n",
    "\n",
    "    def silhouette(self, term, category):\n",
    "        def mean_between_distance(datapoint, same_cluster):\n",
    "            sigma_ai = 0\n",
    "            for reference_point in same_cluster:\n",
    "                if datapoint == reference_point:\n",
    "                    continue\n",
    "                sigma_ai += self.cosine(c1=datapoint, c2=reference_point)\n",
    "\n",
    "            return sigma_ai / (len(same_cluster)-1)\n",
    "\n",
    "        def smallest_mean_out_distance(datapoint, other_clusters):\n",
    "            distances = []\n",
    "            for other_cluster in other_clusters:\n",
    "                sigma_bi = 0\n",
    "                for other_reference_point in other_cluster:\n",
    "                    sigma_bi += self.cosine(c1=datapoint, c2=other_reference_point)\n",
    "                sigma_bi = sigma_bi / len(other_cluster)\n",
    "                distances.append(sigma_bi)\n",
    "            return sum(distances)/len(distances)\n",
    "#             return min(distances)\n",
    "\n",
    "        \n",
    "        cluster = self.umls_evaluator.category2concepts[category]\n",
    "        other_cluster_names = set(self.umls_evaluator.category2concepts.keys()).difference(category)\n",
    "        other_clusters = [self.umls_evaluator.category2concepts[category] for category in other_cluster_names]\n",
    "\n",
    "        a_i = mean_between_distance(term, cluster)\n",
    "        b_i = smallest_mean_out_distance(term, other_clusters)\n",
    "        \n",
    "        if a_i < b_i:\n",
    "            s_i = 1 - a_i / b_i\n",
    "        elif a_i == b_i:\n",
    "            s_i = 0\n",
    "        else:\n",
    "            s_i = b_i / a_i - 1\n",
    "        return s_i\n",
    "\n",
    "    def silhouette_coefficient(self):\n",
    "        s_is = []\n",
    "        categories = tqdm(self.umls_evaluator.category2concepts.keys())\n",
    "        for category in categories:\n",
    "            category_concepts = self.umls_evaluator.category2concepts[category]\n",
    "            if len(category_concepts) < 2:\n",
    "                continue\n",
    "                \n",
    "            category_s_is = []\n",
    "            for term in category_concepts:\n",
    "                category_s_is.append(self.silhouette(term, category))\n",
    "                \n",
    "            mean_category_s_i = sum(category_s_is)/len(category_s_is)\n",
    "            s_is.append(mean_category_s_i)\n",
    "            categories.set_description(f\"{category}: {mean_category_s_i:.4f}\")\n",
    "            categories.refresh()  # to show immediately the update\n",
    "        return sum(s_is)\n",
    "\n",
    "    def category_benchmark(self, choosen_category):\n",
    "        other_categories = self.umls_evaluator.category2concepts.keys()\n",
    "        choosen_concepts = self.umls_evaluator.category2concepts[choosen_category]\n",
    "        if len(choosen_concepts) <= 1:\n",
    "            return 0, 0, 0\n",
    "        p1 = self.pairwise_cosine(choosen_concepts)\n",
    "\n",
    "        p2s = []\n",
    "        for other_category in other_categories:\n",
    "            if other_category == choosen_category:\n",
    "                continue\n",
    "\n",
    "            other_concepts = self.umls_evaluator.category2concepts[other_category]\n",
    "            if len(choosen_concepts) == 0 or len(other_concepts) == 0:\n",
    "                continue\n",
    "            p2 = self.pairwise_cosine(choosen_concepts, other_concepts)\n",
    "            p2s.append(p2)\n",
    "\n",
    "        avg_p2 = sum(p2s) / len(p2s)\n",
    "        return p1, avg_p2, p1 - avg_p2\n",
    "\n",
    "    def all_categories_benchmark(self):\n",
    "\n",
    "        distances = []\n",
    "        categories = tqdm(self.umls_evaluator.category2concepts.keys())\n",
    "        for category in categories:\n",
    "            within, out, distance = self.category_benchmark(category)\n",
    "            distances.append(distance)\n",
    "            categories.set_description(f\"{category}: {within:.4f}|{out:.4f}|{distance:.4f}\")\n",
    "            categories.refresh()  # to show immediately the update\n",
    "\n",
    "        benchmark_value = sum(distances) / len(distances)\n",
    "        print(benchmark_value)\n",
    "        return benchmark_value\n",
    "\n",
    "    def mcsm(self, category, k=40):\n",
    "        def category_true(concept, category):\n",
    "            if category in self.umls_evaluator.concept2category[concept]:\n",
    "                return 1\n",
    "            else:\n",
    "                return 0\n",
    "\n",
    "        v_t = self.umls_evaluator.category2concepts[category]\n",
    "        if len(v_t) == 0:\n",
    "            return 0\n",
    "\n",
    "        sigma = 0\n",
    "        for v in v_t:\n",
    "            for i in range(0, k):\n",
    "                neighbors = self.embeddings.most_similar(v, topn=k)\n",
    "                v_i = neighbors[i][0]\n",
    "                sigma += category_true(v_i, category) / math.log((i + 1) + 1, 2)\n",
    "        return sigma / len(v_t)\n",
    "\n",
    "    def mrm(self, r, seed_pair: Tuple[str, str], k=40):\n",
    "        def relation_true(concepts, relation):\n",
    "            for concept in concepts:\n",
    "                if concept in relation:\n",
    "                    return 1\n",
    "            return 0\n",
    "\n",
    "        s = self.embeddings.get_vector(seed_pair[0])-self.embeddings.get_vector(seed_pair[1])\n",
    "        # todo: choose v_star correctly and add ndf_rt source\n",
    "        v_star = self.umls_evaluator.category2concepts[\"category\"]\n",
    "        sigma = 0\n",
    "        for v in v_star:\n",
    "            union = {}\n",
    "            for i in range(0, k):\n",
    "                union.update(self.embeddings.get_vector(v)-self.embeddings.get_vector(s))\n",
    "            sigma += relation_true(union, r)\n",
    "        return sigma / len(v_star)\n",
    "\n",
    "    def choi_benchmark(self):\n",
    "        categories = ['Pharmacologic Substance',\n",
    "                      'Disease or Syndrome',\n",
    "                      'Neoplastic Process',\n",
    "                      'Clinical Drug',\n",
    "                      'Finding',\n",
    "                      'Injury or Poisoning'\n",
    "                      ]\n",
    "\n",
    "        for category in categories:\n",
    "            print(f'{category}: {self.mcsm(category)}')"
   ]
  },
  {
   "cell_type": "code",
   "execution_count": 12,
   "metadata": {},
   "outputs": [
    {
     "ename": "AttributeError",
     "evalue": "'Benchmark' object has no attribute 'all_categories'",
     "output_type": "error",
     "traceback": [
      "\u001b[1;31m---------------------------------------------------------------------------\u001b[0m",
      "\u001b[1;31mAttributeError\u001b[0m                            Traceback (most recent call last)",
      "\u001b[1;32m<ipython-input-12-caae92418b1a>\u001b[0m in \u001b[0;36m<module>\u001b[1;34m\u001b[0m\n\u001b[0;32m      1\u001b[0m \u001b[0mbenchmark\u001b[0m \u001b[1;33m=\u001b[0m \u001b[0mBenchmark\u001b[0m\u001b[1;33m(\u001b[0m\u001b[0mvecs\u001b[0m\u001b[1;33m,\u001b[0m \u001b[0mumls_mapper\u001b[0m\u001b[1;33m,\u001b[0m \u001b[0mevaluator\u001b[0m\u001b[1;33m)\u001b[0m\u001b[1;33m\u001b[0m\u001b[1;33m\u001b[0m\u001b[0m\n\u001b[1;32m----> 2\u001b[1;33m \u001b[0mbenchmark\u001b[0m\u001b[1;33m.\u001b[0m\u001b[0mall_categories\u001b[0m\u001b[1;33m(\u001b[0m\u001b[1;33m)\u001b[0m\u001b[1;33m\u001b[0m\u001b[1;33m\u001b[0m\u001b[0m\n\u001b[0m",
      "\u001b[1;31mAttributeError\u001b[0m: 'Benchmark' object has no attribute 'all_categories'"
     ]
    }
   ],
   "source": [
    "benchmark = Benchmark(vecs, umls_mapper, evaluator)\n",
    "benchmark.all_categories()"
   ]
  },
  {
   "cell_type": "code",
   "execution_count": 80,
   "metadata": {},
   "outputs": [
    {
     "name": "stderr",
     "output_type": "stream",
     "text": [
      "Laboratory or Test Result: -0.0964: 100%|████████████████████████████████████████████████████████| 112/112 [05:57<00:00,  3.19s/it]\n"
     ]
    },
    {
     "data": {
      "text/plain": [
       "-0.45487171252556297"
      ]
     },
     "execution_count": 80,
     "metadata": {},
     "output_type": "execute_result"
    }
   ],
   "source": [
    "benchmark = Benchmark(vecs, umls_mapper, evaluator)\n",
    "benchmark.silhouette_coefficient()"
   ]
  },
  {
   "cell_type": "markdown",
   "metadata": {},
   "source": [
    "# Visualization"
   ]
  },
  {
   "cell_type": "code",
   "execution_count": 21,
   "metadata": {},
   "outputs": [],
   "source": [
    "from whatlies.embedding import Embedding\n",
    "from whatlies.embeddingset import EmbeddingSet"
   ]
  },
  {
   "cell_type": "code",
   "execution_count": 24,
   "metadata": {},
   "outputs": [],
   "source": [
    "emb = EmbeddingSet({umls_mapper.un_umls(c, single_return=True): Embedding(umls_mapper.un_umls(c, single_return=True), vecs[c]) for c in vecs.vocab})\n",
    "# emb = EmbeddingSet({c: Embedding(c, vecs[c]) for c in vecs.vocab})\n",
    "emb.plot_interactive(\"Cisplatin\",\"Carboplatin\")"
   ]
  },
  {
   "cell_type": "code",
   "execution_count": 6,
   "metadata": {},
   "outputs": [],
   "source": [
    "\n"
   ]
  },
  {
   "cell_type": "code",
   "execution_count": 1,
   "metadata": {},
   "outputs": [
    {
     "data": {
      "text/html": [
       "<div>\n",
       "<style scoped>\n",
       "    .dataframe tbody tr th:only-of-type {\n",
       "        vertical-align: middle;\n",
       "    }\n",
       "\n",
       "    .dataframe tbody tr th {\n",
       "        vertical-align: top;\n",
       "    }\n",
       "\n",
       "    .dataframe thead th {\n",
       "        text-align: right;\n",
       "    }\n",
       "</style>\n",
       "<table border=\"1\" class=\"dataframe\">\n",
       "  <thead>\n",
       "    <tr style=\"text-align: right;\">\n",
       "      <th></th>\n",
       "      <th>Data set</th>\n",
       "      <th>Algorithm</th>\n",
       "      <th># Concepts</th>\n",
       "      <th># Words</th>\n",
       "      <th>HumanAssessment</th>\n",
       "      <th>CUI Coverage</th>\n",
       "    </tr>\n",
       "  </thead>\n",
       "  <tbody>\n",
       "    <tr>\n",
       "      <th>0</th>\n",
       "      <td>GGPONC</td>\n",
       "      <td>word2vec</td>\n",
       "      <td>4081</td>\n",
       "      <td>83160</td>\n",
       "      <td>0.399552</td>\n",
       "      <td>0.049074</td>\n",
       "    </tr>\n",
       "    <tr>\n",
       "      <th>1</th>\n",
       "      <td>GGPONC plain</td>\n",
       "      <td>word2vec</td>\n",
       "      <td>3172</td>\n",
       "      <td>117322</td>\n",
       "      <td>0.415311</td>\n",
       "      <td>0.027037</td>\n",
       "    </tr>\n",
       "    <tr>\n",
       "      <th>2</th>\n",
       "      <td>GGPONC JULIE</td>\n",
       "      <td>word2vec</td>\n",
       "      <td>4421</td>\n",
       "      <td>82916</td>\n",
       "      <td>0.380839</td>\n",
       "      <td>0.053319</td>\n",
       "    </tr>\n",
       "    <tr>\n",
       "      <th>3</th>\n",
       "      <td>GGPONC NO CUI</td>\n",
       "      <td>word2vec</td>\n",
       "      <td>12507</td>\n",
       "      <td>94767</td>\n",
       "      <td>0.341344</td>\n",
       "      <td>0.131976</td>\n",
       "    </tr>\n",
       "    <tr>\n",
       "      <th>4</th>\n",
       "      <td>GGPONC</td>\n",
       "      <td>fastText</td>\n",
       "      <td>4081</td>\n",
       "      <td>83160</td>\n",
       "      <td>0.503632</td>\n",
       "      <td>0.049074</td>\n",
       "    </tr>\n",
       "    <tr>\n",
       "      <th>5</th>\n",
       "      <td>GGPONC</td>\n",
       "      <td>Glove</td>\n",
       "      <td>4081</td>\n",
       "      <td>83160</td>\n",
       "      <td>0.473531</td>\n",
       "      <td>0.049074</td>\n",
       "    </tr>\n",
       "    <tr>\n",
       "      <th>6</th>\n",
       "      <td>News 60K</td>\n",
       "      <td>word2vec</td>\n",
       "      <td>2392</td>\n",
       "      <td>166642</td>\n",
       "      <td>0.511848</td>\n",
       "      <td>0.014354</td>\n",
       "    </tr>\n",
       "    <tr>\n",
       "      <th>7</th>\n",
       "      <td>News 60K plain</td>\n",
       "      <td>word2vec</td>\n",
       "      <td>2086</td>\n",
       "      <td>147443</td>\n",
       "      <td>0.533895</td>\n",
       "      <td>0.014148</td>\n",
       "    </tr>\n",
       "    <tr>\n",
       "      <th>8</th>\n",
       "      <td>News 60K JULIE</td>\n",
       "      <td>word2vec</td>\n",
       "      <td>2490</td>\n",
       "      <td>131073</td>\n",
       "      <td>0.523039</td>\n",
       "      <td>0.018997</td>\n",
       "    </tr>\n",
       "    <tr>\n",
       "      <th>9</th>\n",
       "      <td>News 60K NO CUI</td>\n",
       "      <td>word2vec</td>\n",
       "      <td>4969</td>\n",
       "      <td>113110</td>\n",
       "      <td>0.471766</td>\n",
       "      <td>0.043931</td>\n",
       "    </tr>\n",
       "    <tr>\n",
       "      <th>10</th>\n",
       "      <td>News 60K</td>\n",
       "      <td>fastText</td>\n",
       "      <td>2392</td>\n",
       "      <td>166642</td>\n",
       "      <td>0.511848</td>\n",
       "      <td>0.014354</td>\n",
       "    </tr>\n",
       "    <tr>\n",
       "      <th>11</th>\n",
       "      <td>News 60K</td>\n",
       "      <td>Glove</td>\n",
       "      <td>2392</td>\n",
       "      <td>108138</td>\n",
       "      <td>0.538355</td>\n",
       "      <td>0.022120</td>\n",
       "    </tr>\n",
       "    <tr>\n",
       "      <th>12</th>\n",
       "      <td>News 500K</td>\n",
       "      <td>word2vec</td>\n",
       "      <td>5347</td>\n",
       "      <td>956762</td>\n",
       "      <td>0.406395</td>\n",
       "      <td>0.005589</td>\n",
       "    </tr>\n",
       "    <tr>\n",
       "      <th>13</th>\n",
       "      <td>JSynCC</td>\n",
       "      <td>word2vec</td>\n",
       "      <td>1734</td>\n",
       "      <td>28497</td>\n",
       "      <td>0.500248</td>\n",
       "      <td>0.060849</td>\n",
       "    </tr>\n",
       "    <tr>\n",
       "      <th>14</th>\n",
       "      <td>PubMed</td>\n",
       "      <td>word2vec</td>\n",
       "      <td>1259</td>\n",
       "      <td>11180</td>\n",
       "      <td>0.599979</td>\n",
       "      <td>0.112612</td>\n",
       "    </tr>\n",
       "    <tr>\n",
       "      <th>15</th>\n",
       "      <td>GGPONC, JSynCC, PubMed</td>\n",
       "      <td>word2vec</td>\n",
       "      <td>5304</td>\n",
       "      <td>105514</td>\n",
       "      <td>0.353055</td>\n",
       "      <td>0.050268</td>\n",
       "    </tr>\n",
       "    <tr>\n",
       "      <th>16</th>\n",
       "      <td>GGPONC, JSynCC, PubMed plain</td>\n",
       "      <td>word2vec</td>\n",
       "      <td>4206</td>\n",
       "      <td>147692</td>\n",
       "      <td>0.371543</td>\n",
       "      <td>0.028478</td>\n",
       "    </tr>\n",
       "    <tr>\n",
       "      <th>17</th>\n",
       "      <td>GGPONC, JSynCC, PubMed JULIE</td>\n",
       "      <td>word2vec</td>\n",
       "      <td>5799</td>\n",
       "      <td>105294</td>\n",
       "      <td>0.336035</td>\n",
       "      <td>0.055074</td>\n",
       "    </tr>\n",
       "    <tr>\n",
       "      <th>18</th>\n",
       "      <td>GGPONC, JSynCC, PubMed NO CUI</td>\n",
       "      <td>word2vec</td>\n",
       "      <td>16440</td>\n",
       "      <td>121008</td>\n",
       "      <td>0.308950</td>\n",
       "      <td>0.135859</td>\n",
       "    </tr>\n",
       "    <tr>\n",
       "      <th>19</th>\n",
       "      <td>GGPONC, JSynCC, PubMed</td>\n",
       "      <td>fastText</td>\n",
       "      <td>5304</td>\n",
       "      <td>105514</td>\n",
       "      <td>0.504717</td>\n",
       "      <td>0.050268</td>\n",
       "    </tr>\n",
       "    <tr>\n",
       "      <th>20</th>\n",
       "      <td>GGPONC, JSynCC, PubMed plain</td>\n",
       "      <td>fastText</td>\n",
       "      <td>4206</td>\n",
       "      <td>147692</td>\n",
       "      <td>0.516393</td>\n",
       "      <td>0.028478</td>\n",
       "    </tr>\n",
       "    <tr>\n",
       "      <th>21</th>\n",
       "      <td>GGPONC, JSynCC, PubMed JULIE</td>\n",
       "      <td>fastText</td>\n",
       "      <td>5799</td>\n",
       "      <td>105294</td>\n",
       "      <td>0.503591</td>\n",
       "      <td>0.055074</td>\n",
       "    </tr>\n",
       "    <tr>\n",
       "      <th>22</th>\n",
       "      <td>GGPONC, JSynCC, PubMed NO CUI</td>\n",
       "      <td>fastText</td>\n",
       "      <td>16440</td>\n",
       "      <td>121008</td>\n",
       "      <td>0.329076</td>\n",
       "      <td>0.135859</td>\n",
       "    </tr>\n",
       "    <tr>\n",
       "      <th>23</th>\n",
       "      <td>GGPONC, JSynCC, PubMed</td>\n",
       "      <td>Glove</td>\n",
       "      <td>5304</td>\n",
       "      <td>105514</td>\n",
       "      <td>0.353055</td>\n",
       "      <td>0.050268</td>\n",
       "    </tr>\n",
       "    <tr>\n",
       "      <th>24</th>\n",
       "      <td>GGPONC, JSynCC, PubMed plain</td>\n",
       "      <td>Glove</td>\n",
       "      <td>4206</td>\n",
       "      <td>147692</td>\n",
       "      <td>0.383834</td>\n",
       "      <td>0.028478</td>\n",
       "    </tr>\n",
       "    <tr>\n",
       "      <th>25</th>\n",
       "      <td>GGPONC, JSynCC, PubMed JULIE</td>\n",
       "      <td>Glove</td>\n",
       "      <td>5799</td>\n",
       "      <td>105293</td>\n",
       "      <td>0.474500</td>\n",
       "      <td>0.055075</td>\n",
       "    </tr>\n",
       "    <tr>\n",
       "      <th>26</th>\n",
       "      <td>GGPONC, JSynCC, PubMed NO CUI</td>\n",
       "      <td>Glove</td>\n",
       "      <td>16440</td>\n",
       "      <td>121007</td>\n",
       "      <td>0.517353</td>\n",
       "      <td>0.135860</td>\n",
       "    </tr>\n",
       "  </tbody>\n",
       "</table>\n",
       "</div>"
      ],
      "text/plain": [
       "                         Data set Algorithm  # Concepts  # Words  \\\n",
       "0                          GGPONC  word2vec        4081    83160   \n",
       "1                    GGPONC plain  word2vec        3172   117322   \n",
       "2                    GGPONC JULIE  word2vec        4421    82916   \n",
       "3                   GGPONC NO CUI  word2vec       12507    94767   \n",
       "4                          GGPONC  fastText        4081    83160   \n",
       "5                          GGPONC     Glove        4081    83160   \n",
       "6                        News 60K  word2vec        2392   166642   \n",
       "7                  News 60K plain  word2vec        2086   147443   \n",
       "8                  News 60K JULIE  word2vec        2490   131073   \n",
       "9                 News 60K NO CUI  word2vec        4969   113110   \n",
       "10                       News 60K  fastText        2392   166642   \n",
       "11                       News 60K     Glove        2392   108138   \n",
       "12                      News 500K  word2vec        5347   956762   \n",
       "13                         JSynCC  word2vec        1734    28497   \n",
       "14                         PubMed  word2vec        1259    11180   \n",
       "15         GGPONC, JSynCC, PubMed  word2vec        5304   105514   \n",
       "16   GGPONC, JSynCC, PubMed plain  word2vec        4206   147692   \n",
       "17   GGPONC, JSynCC, PubMed JULIE  word2vec        5799   105294   \n",
       "18  GGPONC, JSynCC, PubMed NO CUI  word2vec       16440   121008   \n",
       "19         GGPONC, JSynCC, PubMed  fastText        5304   105514   \n",
       "20   GGPONC, JSynCC, PubMed plain  fastText        4206   147692   \n",
       "21   GGPONC, JSynCC, PubMed JULIE  fastText        5799   105294   \n",
       "22  GGPONC, JSynCC, PubMed NO CUI  fastText       16440   121008   \n",
       "23         GGPONC, JSynCC, PubMed     Glove        5304   105514   \n",
       "24   GGPONC, JSynCC, PubMed plain     Glove        4206   147692   \n",
       "25   GGPONC, JSynCC, PubMed JULIE     Glove        5799   105293   \n",
       "26  GGPONC, JSynCC, PubMed NO CUI     Glove       16440   121007   \n",
       "\n",
       "    HumanAssessment  CUI Coverage  \n",
       "0          0.399552      0.049074  \n",
       "1          0.415311      0.027037  \n",
       "2          0.380839      0.053319  \n",
       "3          0.341344      0.131976  \n",
       "4          0.503632      0.049074  \n",
       "5          0.473531      0.049074  \n",
       "6          0.511848      0.014354  \n",
       "7          0.533895      0.014148  \n",
       "8          0.523039      0.018997  \n",
       "9          0.471766      0.043931  \n",
       "10         0.511848      0.014354  \n",
       "11         0.538355      0.022120  \n",
       "12         0.406395      0.005589  \n",
       "13         0.500248      0.060849  \n",
       "14         0.599979      0.112612  \n",
       "15         0.353055      0.050268  \n",
       "16         0.371543      0.028478  \n",
       "17         0.336035      0.055074  \n",
       "18         0.308950      0.135859  \n",
       "19         0.504717      0.050268  \n",
       "20         0.516393      0.028478  \n",
       "21         0.503591      0.055074  \n",
       "22         0.329076      0.135859  \n",
       "23         0.353055      0.050268  \n",
       "24         0.383834      0.028478  \n",
       "25         0.474500      0.055075  \n",
       "26         0.517353      0.135860  "
      ]
     },
     "execution_count": 1,
     "metadata": {},
     "output_type": "execute_result"
    }
   ],
   "source": [
    "import pandas as pd\n",
    "df = pd.read_csv(\"data/benchmark_results2.csv\")\n",
    "df"
   ]
  },
  {
   "cell_type": "code",
   "execution_count": 2,
   "metadata": {},
   "outputs": [],
   "source": [
    "import matplotlib.pyplot as plt\n",
    "from typing import List\n",
    "\n",
    "\n",
    "def plot_single_benchmark(df: pd.DataFrame, benchmark: str, grouping: str, coloring: str, paper_mode: bool = True):\n",
    "    df_copy = df[[grouping, coloring, benchmark]]\n",
    "    legend_labels = df_copy[coloring].drop_duplicates().iloc[::-1]\n",
    "    df_copy = df_copy.set_index([grouping, coloring])\n",
    "    if paper_mode:\n",
    "        font_size = 14\n",
    "        legend_size = 10\n",
    "        plt.rc('font', family='serif', size=font_size)\n",
    "        grid = False\n",
    "        title = None\n",
    "        \n",
    "    else:\n",
    "        font_size = 20\n",
    "        legend_size = 12\n",
    "        plt.rc('font', family='sans-serif', size=font_size)\n",
    "        grid = True\n",
    "        title = benchmark\n",
    "        \n",
    "    ax = df_copy.unstack().plot(kind=\"bar\", title=title, grid=grid, alpha=0.85, rot=90)\n",
    "#     ax.spines['bottom'].set_position('zero')\n",
    "    ax.set_xlabel(grouping, fontsize=font_size)\n",
    "    ax.set_ylim(ymin=0)\n",
    "    ax.set_ylabel(\"Score\", fontsize=font_size)\n",
    "    if len(legend_labels) > 1:\n",
    "        ax.legend(legend_labels, title=coloring, title_fontsize = legend_size, fontsize = legend_size, loc=\"best\")\n",
    "    plt.show()\n",
    "    # plot_single_benchmark(df, benchmark=\"HumanAssessment\", grouping=\"Data set\", stratification=\"Algorithm\")\n",
    "    # plot_single_benchmark(df, benchmark=\"HumanAssessment\", grouping=\"Algorithm\", stratification=\"Data set\")\n",
    "\n",
    "\n",
    "def plot_counts(df: pd.DataFrame, x_attribute: str, coloring: List[str], paper_mode: bool=True):\n",
    "    columns = [x_attribute]\n",
    "    columns.extend(coloring)\n",
    "    legend_labels = coloring\n",
    "    if paper_mode:\n",
    "        font_size = 14\n",
    "        legend_size = 10\n",
    "        plt.rc('font', family='serif', size=font_size)\n",
    "        grid = False\n",
    "        title = None\n",
    "        \n",
    "    else:\n",
    "        font_size = 20\n",
    "        legend_size = 12\n",
    "        plt.rc('font', family='sans-serif', size=font_size)\n",
    "        grid = True\n",
    "        title = \"Concepts found\"\n",
    "        \n",
    "    count_df = df[columns].drop_duplicates()\n",
    "    ax = count_df.plot(x_attribute, coloring, kind=\"bar\", alpha=0.75, title=title, grid=grid)\n",
    "    ax.set_ylabel(\"Count score\")\n",
    "    print(len(legend_labes))\n",
    "    if len(legend_labels) > 1:\n",
    "        ax.legend(legend_labels, title=\"Counts\", loc=\"best\", title_fontsize = legend_size, fontsize = legend_size)\n",
    "    plt.show()\n",
    "\n",
    "    # plot_counts(df, x_attribute=\"Data set\", stratification=[\"# Concepts\"])\n",
    "\n",
    "\n",
    "def mean_group_df(df: pd.DataFrame, group: str):\n",
    "    return df.groupby(group).mean()\n",
    "    # mean_group_df(df, group=\"Data set\")\n",
    "\n",
    "    "
   ]
  },
  {
   "cell_type": "code",
   "execution_count": 4,
   "metadata": {},
   "outputs": [
    {
     "data": {
      "image/png": "[encoded data removed]",
      "text/plain": [
       "<Figure size 432x288 with 1 Axes>"
      ]
     },
     "metadata": {
      "needs_background": "light"
     },
     "output_type": "display_data"
    }
   ],
   "source": [
    "plot_single_benchmark(df, benchmark=\"HumanAssessment\", grouping=\"Data set\", coloring=\"Algorithm\", paper_mode=False)\n",
    "# plot_single_benchmark(df, benchmark=\"CategoryBenchmark\", grouping=\"Algorithm\", coloring=\"Data set\", paper_mode=False)"
   ]
  },
  {
   "cell_type": "code",
   "execution_count": 137,
   "metadata": {},
   "outputs": [
    {
     "name": "stdout",
     "output_type": "stream",
     "text": [
      "1\n"
     ]
    },
    {
     "data": {
      "image/png": "[encoded data removed]",
      "text/plain": [
       "<Figure size 432x288 with 1 Axes>"
      ]
     },
     "metadata": {
      "needs_background": "light"
     },
     "output_type": "display_data"
    },
    {
     "name": "stdout",
     "output_type": "stream",
     "text": [
      "1\n"
     ]
    },
    {
     "data": {
      "image/png": "[encoded data removed]",
      "text/plain": [
       "<Figure size 432x288 with 1 Axes>"
      ]
     },
     "metadata": {
      "needs_background": "light"
     },
     "output_type": "display_data"
    }
   ],
   "source": [
    "plot_counts(df, x_attribute=\"Data set\", coloring=[\"# Concepts\"], paper_mode=True)\n",
    "plot_counts(df, x_attribute=\"Data set\", coloring=[\"CUI Coverage\"], paper_mode=False)"
   ]
  },
  {
   "cell_type": "code",
   "execution_count": null,
   "metadata": {},
   "outputs": [],
   "source": []
  }
 ],
 "metadata": {
  "kernelspec": {
   "display_name": "Python 3",
   "language": "python",
   "name": "python3"
  },
  "language_info": {
   "codemirror_mode": {
    "name": "ipython",
    "version": 3
   },
   "file_extension": ".py",
   "mimetype": "text/x-python",
   "name": "python",
   "nbconvert_exporter": "python",
   "pygments_lexer": "ipython3",
   "version": "3.7.7"
  }
 },
 "nbformat": 4,
 "nbformat_minor": 4
}
