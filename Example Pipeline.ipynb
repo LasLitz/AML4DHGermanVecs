{
 "cells": [
  {
   "cell_type": "code",
   "execution_count": 1,
   "metadata": {},
   "outputs": [],
   "source": [
    "import math\n",
    "\n",
    "import gensim\n",
    "from tqdm import tqdm\n",
    "\n",
    "from UMLS import UMLSMapper, UMLSEvaluator\n",
    "from embeddings import Embeddings\n",
    "from evaluate_embeddings import Benchmark\n",
    "\n",
    "from vectorize_data import lines_from_file, preprocess"
   ]
  },
  {
   "cell_type": "markdown",
   "metadata": {},
   "source": [
    "# General"
   ]
  },
  {
   "cell_type": "code",
   "execution_count": 2,
   "metadata": {},
   "outputs": [
    {
     "name": "stdout",
     "output_type": "stream",
     "text": [
      "initialize UMLSMapper...\n"
     ]
    }
   ],
   "source": [
    "embedding_name = \"no_prep_vecs\"\n",
    "umls_mapper = UMLSMapper(from_dir='E:/AML4DH-DATA/UMLS')"
   ]
  },
  {
   "cell_type": "markdown",
   "metadata": {},
   "source": [
    "# Vectorization"
   ]
  },
  {
   "cell_type": "code",
   "execution_count": 3,
   "metadata": {},
   "outputs": [
    {
     "name": "stdout",
     "output_type": "stream",
     "text": [
      "['Helicobacter pylori ist der wesentliche Risikofaktor für das Magenkarzinom.', 'Die H. pylori-Eradikation mit dem Ziel der Magenkarzinomprävention sollte bei den folgenden Risikopersonen durchgeführt werden (siehe Tabelle unten).']\n"
     ]
    }
   ],
   "source": [
    "cpq_sentences = lines_from_file(path=\"E:/AML4DH-DATA/CPG-AMIA2020/Plain Text/cpg-sentences.txt\")\n",
    "print(cpq_sentences[:2])"
   ]
  },
  {
   "cell_type": "code",
   "execution_count": 4,
   "metadata": {},
   "outputs": [
    {
     "name": "stdout",
     "output_type": "stream",
     "text": [
      "[['Helicobacter', 'pylori', 'ist', 'der', 'wesentliche', 'Risikofaktor', 'für', 'das', 'Magenkarzinom.'], ['Die', 'H.', 'pylori-Eradikation', 'mit', 'dem', 'Ziel', 'der', 'Magenkarzinomprävention', 'sollte', 'bei', 'den', 'folgenden', 'Risikopersonen', 'durchgeführt', 'werden', '(siehe', 'Tabelle', 'unten).']]\n"
     ]
    }
   ],
   "source": [
    "# tokenization\n",
    "cpq_sentences = [sentence.split() for sentence in cpq_sentences]\n",
    "print(cpq_sentences[:2])"
   ]
  },
  {
   "cell_type": "code",
   "execution_count": 5,
   "metadata": {},
   "outputs": [
    {
     "name": "stdout",
     "output_type": "stream",
     "text": [
      "[['C0085508', 'pylori', 'ist', 'der', 'wesentliche', 'Risikofaktor', 'für', 'das', 'Magenkarzinom.'], ['Die', 'H.', 'pylori-Eradikation', 'mit', 'dem', 'Ziel', 'der', 'Magenkarzinomprävention', 'sollte', 'bei', 'den', 'folgenden', 'Risikopersonen', 'durchgeführt', 'werden', '(siehe', 'Tabelle', 'unten).']]\n"
     ]
    }
   ],
   "source": [
    "# cpq_sentences = umls_mapper.standardize_documents(cpq_sentences)\n",
    "cpq_sentences = umls_mapper.replace_documents_with_umls(cpq_sentences)\n",
    "# cpq_sentences = preprocess(documents=cpq_sentences, lemmatize=True, remove_stopwords=True)\n",
    "print(cpq_sentences[:2])"
   ]
  },
  {
   "cell_type": "code",
   "execution_count": 6,
   "metadata": {},
   "outputs": [
    {
     "name": "stderr",
     "output_type": "stream",
     "text": [
      " ... (more hidden) ...\n"
     ]
    }
   ],
   "source": [
    "vecs = Embeddings.calculate_vectors(cpq_sentences, use_phrases=False)\n",
    "Embeddings.save_medical(vecs, embedding_name, umls_mapper)"
   ]
  },
  {
   "cell_type": "markdown",
   "metadata": {},
   "source": [
    "# Benchmarks"
   ]
  },
  {
   "cell_type": "code",
   "execution_count": 11,
   "metadata": {},
   "outputs": [
    {
     "name": "stdout",
     "output_type": "stream",
     "text": [
      "load embedding...\n",
      "initialize UMLSEvaluator...\n"
     ]
    }
   ],
   "source": [
    "vecs = Embeddings.load(path=f\"data/{embedding_name}.kv\")\n",
    "evaluator = UMLSEvaluator(from_dir='E:/AML4DH-DATA/UMLS', vectors=vecs)"
   ]
  },
  {
   "cell_type": "code",
   "execution_count": 12,
   "metadata": {},
   "outputs": [
    {
     "name": "stdout",
     "output_type": "stream",
     "text": [
      "Pharmacologic Substance: 3.9181550275259163\n",
      "Disease or Syndrome,Neoplastic Process: 0\n",
      "Clinical Drug: 0\n",
      "Finding: 0.6427943747281554\n",
      "Injury or Poisoning: 0.08356520320690844\n"
     ]
    }
   ],
   "source": [
    "benchmark = Benchmark(vecs, umls_mapper, evaluator)\n",
    "benchmark.choi_benchmark()"
   ]
  },
  {
   "cell_type": "code",
   "execution_count": null,
   "metadata": {},
   "outputs": [],
   "source": [
    "becnhmarkbenchmark.all_categories_benchmark()"
   ]
  },
  {
   "cell_type": "markdown",
   "metadata": {},
   "source": [
    "# Visualization"
   ]
  },
  {
   "cell_type": "code",
   "execution_count": null,
   "metadata": {},
   "outputs": [],
   "source": [
    "from whatlies.embedding import Embedding\n",
    "from whatlies.embeddingset import EmbeddingSet"
   ]
  },
  {
   "cell_type": "code",
   "execution_count": null,
   "metadata": {},
   "outputs": [],
   "source": [
    "emb = EmbeddingSet({umls_mapper.un_umls(c, single_return=True): Embedding(umls_mapper.un_umls(c, single_return=True), vecs[c]) for c in vecs.vocab})\n",
    "# emb = EmbeddingSet({c: Embedding(c, vecs[c]) for c in vecs.vocab})\n",
    "\n",
    "emb.plot_interactive(\"Fibroblasten\",\"Fremdkörper\")"
   ]
  }
 ],
 "metadata": {
  "kernelspec": {
   "display_name": "Python 3",
   "language": "python",
   "name": "python3"
  },
  "language_info": {
   "codemirror_mode": {
    "name": "ipython",
    "version": 3
   },
   "file_extension": ".py",
   "mimetype": "text/x-python",
   "name": "python",
   "nbconvert_exporter": "python",
   "pygments_lexer": "ipython3",
   "version": "3.7.7"
  }
 },
 "nbformat": 4,
 "nbformat_minor": 4
}
